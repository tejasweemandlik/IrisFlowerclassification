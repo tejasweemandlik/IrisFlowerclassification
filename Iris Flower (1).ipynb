{
 "cells": [
  {
   "cell_type": "markdown",
   "id": "d2e6bee7",
   "metadata": {},
   "source": [
    "#### Tejaswee mandlik"
   ]
  },
  {
   "cell_type": "markdown",
   "id": "c2cf733b",
   "metadata": {},
   "source": [
    "## Iris Flower classification"
   ]
  },
  {
   "cell_type": "code",
   "execution_count": 1,
   "id": "e22b18d4",
   "metadata": {},
   "outputs": [],
   "source": [
    "import numpy as np\n",
    "import pandas as pd\n",
    "from sklearn.model_selection import train_test_split\n",
    "from sklearn.preprocessing import StandardScaler\n",
    "from sklearn.neighbors import KNeighborsClassifier\n",
    "from sklearn.metrics import accuracy_score\n",
    "from sklearn.metrics import confusion_matrix"
   ]
  },
  {
   "cell_type": "markdown",
   "id": "0152f7ce",
   "metadata": {},
   "source": [
    "### Load the dataset"
   ]
  },
  {
   "cell_type": "code",
   "execution_count": 2,
   "id": "560c44df",
   "metadata": {},
   "outputs": [
    {
     "data": {
      "text/html": [
       "<div>\n",
       "<style scoped>\n",
       "    .dataframe tbody tr th:only-of-type {\n",
       "        vertical-align: middle;\n",
       "    }\n",
       "\n",
       "    .dataframe tbody tr th {\n",
       "        vertical-align: top;\n",
       "    }\n",
       "\n",
       "    .dataframe thead th {\n",
       "        text-align: right;\n",
       "    }\n",
       "</style>\n",
       "<table border=\"1\" class=\"dataframe\">\n",
       "  <thead>\n",
       "    <tr style=\"text-align: right;\">\n",
       "      <th></th>\n",
       "      <th>Id</th>\n",
       "      <th>SepalLengthCm</th>\n",
       "      <th>SepalWidthCm</th>\n",
       "      <th>PetalLengthCm</th>\n",
       "      <th>PetalWidthCm</th>\n",
       "      <th>Species</th>\n",
       "    </tr>\n",
       "  </thead>\n",
       "  <tbody>\n",
       "    <tr>\n",
       "      <th>0</th>\n",
       "      <td>1</td>\n",
       "      <td>5.1</td>\n",
       "      <td>3.5</td>\n",
       "      <td>1.4</td>\n",
       "      <td>0.2</td>\n",
       "      <td>Iris-setosa</td>\n",
       "    </tr>\n",
       "    <tr>\n",
       "      <th>1</th>\n",
       "      <td>2</td>\n",
       "      <td>4.9</td>\n",
       "      <td>3.0</td>\n",
       "      <td>1.4</td>\n",
       "      <td>0.2</td>\n",
       "      <td>Iris-setosa</td>\n",
       "    </tr>\n",
       "    <tr>\n",
       "      <th>2</th>\n",
       "      <td>3</td>\n",
       "      <td>4.7</td>\n",
       "      <td>3.2</td>\n",
       "      <td>1.3</td>\n",
       "      <td>0.2</td>\n",
       "      <td>Iris-setosa</td>\n",
       "    </tr>\n",
       "    <tr>\n",
       "      <th>3</th>\n",
       "      <td>4</td>\n",
       "      <td>4.6</td>\n",
       "      <td>3.1</td>\n",
       "      <td>1.5</td>\n",
       "      <td>0.2</td>\n",
       "      <td>Iris-setosa</td>\n",
       "    </tr>\n",
       "    <tr>\n",
       "      <th>4</th>\n",
       "      <td>5</td>\n",
       "      <td>5.0</td>\n",
       "      <td>3.6</td>\n",
       "      <td>1.4</td>\n",
       "      <td>0.2</td>\n",
       "      <td>Iris-setosa</td>\n",
       "    </tr>\n",
       "    <tr>\n",
       "      <th>...</th>\n",
       "      <td>...</td>\n",
       "      <td>...</td>\n",
       "      <td>...</td>\n",
       "      <td>...</td>\n",
       "      <td>...</td>\n",
       "      <td>...</td>\n",
       "    </tr>\n",
       "    <tr>\n",
       "      <th>145</th>\n",
       "      <td>146</td>\n",
       "      <td>6.7</td>\n",
       "      <td>3.0</td>\n",
       "      <td>5.2</td>\n",
       "      <td>2.3</td>\n",
       "      <td>Iris-virginica</td>\n",
       "    </tr>\n",
       "    <tr>\n",
       "      <th>146</th>\n",
       "      <td>147</td>\n",
       "      <td>6.3</td>\n",
       "      <td>2.5</td>\n",
       "      <td>5.0</td>\n",
       "      <td>1.9</td>\n",
       "      <td>Iris-virginica</td>\n",
       "    </tr>\n",
       "    <tr>\n",
       "      <th>147</th>\n",
       "      <td>148</td>\n",
       "      <td>6.5</td>\n",
       "      <td>3.0</td>\n",
       "      <td>5.2</td>\n",
       "      <td>2.0</td>\n",
       "      <td>Iris-virginica</td>\n",
       "    </tr>\n",
       "    <tr>\n",
       "      <th>148</th>\n",
       "      <td>149</td>\n",
       "      <td>6.2</td>\n",
       "      <td>3.4</td>\n",
       "      <td>5.4</td>\n",
       "      <td>2.3</td>\n",
       "      <td>Iris-virginica</td>\n",
       "    </tr>\n",
       "    <tr>\n",
       "      <th>149</th>\n",
       "      <td>150</td>\n",
       "      <td>5.9</td>\n",
       "      <td>3.0</td>\n",
       "      <td>5.1</td>\n",
       "      <td>1.8</td>\n",
       "      <td>Iris-virginica</td>\n",
       "    </tr>\n",
       "  </tbody>\n",
       "</table>\n",
       "<p>150 rows × 6 columns</p>\n",
       "</div>"
      ],
      "text/plain": [
       "      Id  SepalLengthCm  SepalWidthCm  PetalLengthCm  PetalWidthCm  \\\n",
       "0      1            5.1           3.5            1.4           0.2   \n",
       "1      2            4.9           3.0            1.4           0.2   \n",
       "2      3            4.7           3.2            1.3           0.2   \n",
       "3      4            4.6           3.1            1.5           0.2   \n",
       "4      5            5.0           3.6            1.4           0.2   \n",
       "..   ...            ...           ...            ...           ...   \n",
       "145  146            6.7           3.0            5.2           2.3   \n",
       "146  147            6.3           2.5            5.0           1.9   \n",
       "147  148            6.5           3.0            5.2           2.0   \n",
       "148  149            6.2           3.4            5.4           2.3   \n",
       "149  150            5.9           3.0            5.1           1.8   \n",
       "\n",
       "            Species  \n",
       "0       Iris-setosa  \n",
       "1       Iris-setosa  \n",
       "2       Iris-setosa  \n",
       "3       Iris-setosa  \n",
       "4       Iris-setosa  \n",
       "..              ...  \n",
       "145  Iris-virginica  \n",
       "146  Iris-virginica  \n",
       "147  Iris-virginica  \n",
       "148  Iris-virginica  \n",
       "149  Iris-virginica  \n",
       "\n",
       "[150 rows x 6 columns]"
      ]
     },
     "execution_count": 2,
     "metadata": {},
     "output_type": "execute_result"
    }
   ],
   "source": [
    "data = pd.read_csv(r\"C:\\Users\\Dattatraya\\Downloads\\archive (1)\\Iris.csv\")\n",
    "data"
   ]
  },
  {
   "cell_type": "markdown",
   "id": "f6a90e03",
   "metadata": {},
   "source": [
    "###  Display the first few rows of the dataset"
   ]
  },
  {
   "cell_type": "code",
   "execution_count": 3,
   "id": "5ced3a2a",
   "metadata": {},
   "outputs": [
    {
     "name": "stdout",
     "output_type": "stream",
     "text": [
      "   Id  SepalLengthCm  SepalWidthCm  PetalLengthCm  PetalWidthCm      Species\n",
      "0   1            5.1           3.5            1.4           0.2  Iris-setosa\n",
      "1   2            4.9           3.0            1.4           0.2  Iris-setosa\n",
      "2   3            4.7           3.2            1.3           0.2  Iris-setosa\n",
      "3   4            4.6           3.1            1.5           0.2  Iris-setosa\n",
      "4   5            5.0           3.6            1.4           0.2  Iris-setosa\n"
     ]
    }
   ],
   "source": [
    "print(data.head())"
   ]
  },
  {
   "cell_type": "code",
   "execution_count": 4,
   "id": "cc30f776",
   "metadata": {},
   "outputs": [
    {
     "data": {
      "text/plain": [
       "0         Iris-setosa\n",
       "1         Iris-setosa\n",
       "2         Iris-setosa\n",
       "3         Iris-setosa\n",
       "4         Iris-setosa\n",
       "            ...      \n",
       "145    Iris-virginica\n",
       "146    Iris-virginica\n",
       "147    Iris-virginica\n",
       "148    Iris-virginica\n",
       "149    Iris-virginica\n",
       "Name: Species, Length: 150, dtype: object"
      ]
     },
     "execution_count": 4,
     "metadata": {},
     "output_type": "execute_result"
    }
   ],
   "source": [
    "# Features (sepal and petal measurements)\n",
    "X = data.drop('Species', axis=1)\n",
    "\n",
    "# Labels (species)\n",
    "y = data['Species']\n",
    "y"
   ]
  },
  {
   "cell_type": "code",
   "execution_count": 5,
   "id": "51877759",
   "metadata": {},
   "outputs": [
    {
     "data": {
      "text/html": [
       "<div>\n",
       "<style scoped>\n",
       "    .dataframe tbody tr th:only-of-type {\n",
       "        vertical-align: middle;\n",
       "    }\n",
       "\n",
       "    .dataframe tbody tr th {\n",
       "        vertical-align: top;\n",
       "    }\n",
       "\n",
       "    .dataframe thead th {\n",
       "        text-align: right;\n",
       "    }\n",
       "</style>\n",
       "<table border=\"1\" class=\"dataframe\">\n",
       "  <thead>\n",
       "    <tr style=\"text-align: right;\">\n",
       "      <th></th>\n",
       "      <th>Id</th>\n",
       "      <th>SepalLengthCm</th>\n",
       "      <th>SepalWidthCm</th>\n",
       "      <th>PetalLengthCm</th>\n",
       "      <th>PetalWidthCm</th>\n",
       "    </tr>\n",
       "  </thead>\n",
       "  <tbody>\n",
       "    <tr>\n",
       "      <th>0</th>\n",
       "      <td>1</td>\n",
       "      <td>5.1</td>\n",
       "      <td>3.5</td>\n",
       "      <td>1.4</td>\n",
       "      <td>0.2</td>\n",
       "    </tr>\n",
       "    <tr>\n",
       "      <th>1</th>\n",
       "      <td>2</td>\n",
       "      <td>4.9</td>\n",
       "      <td>3.0</td>\n",
       "      <td>1.4</td>\n",
       "      <td>0.2</td>\n",
       "    </tr>\n",
       "    <tr>\n",
       "      <th>2</th>\n",
       "      <td>3</td>\n",
       "      <td>4.7</td>\n",
       "      <td>3.2</td>\n",
       "      <td>1.3</td>\n",
       "      <td>0.2</td>\n",
       "    </tr>\n",
       "    <tr>\n",
       "      <th>3</th>\n",
       "      <td>4</td>\n",
       "      <td>4.6</td>\n",
       "      <td>3.1</td>\n",
       "      <td>1.5</td>\n",
       "      <td>0.2</td>\n",
       "    </tr>\n",
       "    <tr>\n",
       "      <th>4</th>\n",
       "      <td>5</td>\n",
       "      <td>5.0</td>\n",
       "      <td>3.6</td>\n",
       "      <td>1.4</td>\n",
       "      <td>0.2</td>\n",
       "    </tr>\n",
       "    <tr>\n",
       "      <th>...</th>\n",
       "      <td>...</td>\n",
       "      <td>...</td>\n",
       "      <td>...</td>\n",
       "      <td>...</td>\n",
       "      <td>...</td>\n",
       "    </tr>\n",
       "    <tr>\n",
       "      <th>145</th>\n",
       "      <td>146</td>\n",
       "      <td>6.7</td>\n",
       "      <td>3.0</td>\n",
       "      <td>5.2</td>\n",
       "      <td>2.3</td>\n",
       "    </tr>\n",
       "    <tr>\n",
       "      <th>146</th>\n",
       "      <td>147</td>\n",
       "      <td>6.3</td>\n",
       "      <td>2.5</td>\n",
       "      <td>5.0</td>\n",
       "      <td>1.9</td>\n",
       "    </tr>\n",
       "    <tr>\n",
       "      <th>147</th>\n",
       "      <td>148</td>\n",
       "      <td>6.5</td>\n",
       "      <td>3.0</td>\n",
       "      <td>5.2</td>\n",
       "      <td>2.0</td>\n",
       "    </tr>\n",
       "    <tr>\n",
       "      <th>148</th>\n",
       "      <td>149</td>\n",
       "      <td>6.2</td>\n",
       "      <td>3.4</td>\n",
       "      <td>5.4</td>\n",
       "      <td>2.3</td>\n",
       "    </tr>\n",
       "    <tr>\n",
       "      <th>149</th>\n",
       "      <td>150</td>\n",
       "      <td>5.9</td>\n",
       "      <td>3.0</td>\n",
       "      <td>5.1</td>\n",
       "      <td>1.8</td>\n",
       "    </tr>\n",
       "  </tbody>\n",
       "</table>\n",
       "<p>150 rows × 5 columns</p>\n",
       "</div>"
      ],
      "text/plain": [
       "      Id  SepalLengthCm  SepalWidthCm  PetalLengthCm  PetalWidthCm\n",
       "0      1            5.1           3.5            1.4           0.2\n",
       "1      2            4.9           3.0            1.4           0.2\n",
       "2      3            4.7           3.2            1.3           0.2\n",
       "3      4            4.6           3.1            1.5           0.2\n",
       "4      5            5.0           3.6            1.4           0.2\n",
       "..   ...            ...           ...            ...           ...\n",
       "145  146            6.7           3.0            5.2           2.3\n",
       "146  147            6.3           2.5            5.0           1.9\n",
       "147  148            6.5           3.0            5.2           2.0\n",
       "148  149            6.2           3.4            5.4           2.3\n",
       "149  150            5.9           3.0            5.1           1.8\n",
       "\n",
       "[150 rows x 5 columns]"
      ]
     },
     "execution_count": 5,
     "metadata": {},
     "output_type": "execute_result"
    }
   ],
   "source": [
    "X"
   ]
  },
  {
   "cell_type": "markdown",
   "id": "3b84def1",
   "metadata": {},
   "source": [
    "###  Split the data into training and testing sets"
   ]
  },
  {
   "cell_type": "code",
   "execution_count": 6,
   "id": "7b6f4a26",
   "metadata": {},
   "outputs": [],
   "source": [
    "X_train, X_test, y_train, y_test = train_test_split(X, y, test_size=0.2, random_state=42)"
   ]
  },
  {
   "cell_type": "code",
   "execution_count": 7,
   "id": "b345a3c1",
   "metadata": {},
   "outputs": [],
   "source": [
    "# Initialize the StandardScaler\n",
    "scaler = StandardScaler()\n",
    "\n",
    "# Fit and transform on training data\n",
    "X_train_scaled = scaler.fit_transform(X_train)\n",
    "\n",
    "# Transform on testing data\n",
    "X_test_scaled = scaler.transform(X_test)\n"
   ]
  },
  {
   "cell_type": "code",
   "execution_count": 8,
   "id": "974ad8dc",
   "metadata": {},
   "outputs": [
    {
     "data": {
      "text/plain": [
       "array([[-1.21030717, -1.47393679,  1.22037928, -1.5639872 , -1.30948358],\n",
       "       [-1.37240188, -0.13307079,  3.02001693, -1.27728011, -1.04292204],\n",
       "       [-0.21458252,  1.08589829,  0.09560575,  0.38562104,  0.28988568],\n",
       "       [-1.46502743, -1.23014297,  0.77046987, -1.21993869, -1.30948358],\n",
       "       [-0.74717943, -1.7177306 ,  0.32056046, -1.39196294, -1.30948358],\n",
       "       [ 1.66108484,  0.59831066, -1.25412249,  0.72966956,  0.95628954],\n",
       "       [-0.53877194,  0.72020757,  0.32056046,  0.44296246,  0.42316645],\n",
       "       [-1.09452523, -0.74255534,  0.99542457, -1.27728011, -1.30948358],\n",
       "       [-1.62712214, -0.98634915,  1.22037928, -1.33462153, -1.30948358],\n",
       "       [-0.9787433 , -0.74255534,  2.34515281, -1.27728011, -1.44276436],\n",
       "       [ 1.56845929, -0.01117388, -0.80421307,  0.78701097,  0.95628954],\n",
       "       [ 0.24854522,  0.23261993,  0.77046987,  0.44296246,  0.55644722],\n",
       "       [ 0.27170161,  1.08589829,  0.09560575,  0.5576453 ,  0.42316645],\n",
       "       [-1.34924549, -0.49876152,  1.8952434 , -1.39196294, -1.04292204],\n",
       "       [-1.48818382, -0.49876152,  1.44533399, -1.27728011, -1.30948358],\n",
       "       [ 0.15591967, -0.37686461, -1.47907719, -0.01576889, -0.24323741],\n",
       "       [ 1.36005181,  0.59831066, -0.57925837,  0.78701097,  0.42316645],\n",
       "       [ 1.45267736,  0.72020757,  0.09560575,  1.01637665,  0.82300877],\n",
       "       [ 0.01698135,  0.96400139, -0.12934896,  0.38562104,  0.28988568],\n",
       "       [ 0.80429851,  1.69538284,  1.22037928,  1.36042516,  1.75597417],\n",
       "       [ 0.50326548, -0.13307079, -0.35430366,  0.2709382 ,  0.15660491],\n",
       "       [ 0.71167297,  2.18297047, -0.12934896,  1.64713226,  1.22285108],\n",
       "       [-0.19142613, -0.2549677 , -0.12934896,  0.44296246,  0.42316645],\n",
       "       [-1.71974769, -0.86445224,  0.99542457, -1.33462153, -1.30948358],\n",
       "       [ 1.10533155,  2.30486738, -0.57925837,  1.70447368,  1.08957031],\n",
       "       [-0.16826975, -0.01117388, -0.80421307,  0.21359679, -0.24323741],\n",
       "       [-1.07136885, -0.74255534,  0.77046987, -1.33462153, -1.30948358],\n",
       "       [-0.7934922 , -0.98634915,  0.99542457, -1.39196294, -1.17620281],\n",
       "       [-0.70086665, -0.86445224,  1.67028869, -1.04791443, -1.04292204],\n",
       "       [-0.33036446, -0.98634915, -2.37889602, -0.13045173, -0.24323741],\n",
       "       [ 1.12848794,  0.59831066, -0.80421307,  0.67232814,  0.82300877],\n",
       "       [-1.1639944 , -1.23014297,  0.77046987, -1.04791443, -1.30948358],\n",
       "       [-1.14083801, -0.98634915, -0.12934896, -1.21993869, -1.30948358],\n",
       "       [-1.18715078, -0.86445224,  0.54551516, -1.16259727, -0.90964127],\n",
       "       [ 0.45695271, -0.2549677 , -0.80421307,  0.2709382 ,  0.15660491],\n",
       "       [-0.81664859, -0.86445224,  0.77046987, -1.27728011, -1.30948358],\n",
       "       [ 0.48010909, -0.13307079, -0.12934896,  0.2709382 ,  0.02332414],\n",
       "       [ 0.98954961,  2.30486738,  1.67028869,  1.70447368,  1.35613185],\n",
       "       [-0.63139749, -1.47393679,  0.32056046, -1.33462153, -1.30948358],\n",
       "       [ 0.52642187,  0.47641375, -0.35430366,  0.32827962,  0.15660491],\n",
       "       [ 0.89692406, -0.13307079, -1.25412249,  0.72966956,  1.08957031],\n",
       "       [-0.95558691, -0.37686461,  2.57010752, -1.33462153, -1.30948358],\n",
       "       [ 1.47583374,  0.23261993, -0.12934896,  0.61498672,  0.82300877],\n",
       "       [ 0.61904742, -0.01117388, -0.80421307,  0.78701097,  0.95628954],\n",
       "       [-0.28405168,  0.23261993, -1.9289866 ,  0.15625537, -0.24323741],\n",
       "       [ 0.22538884, -0.49876152, -0.12934896,  0.44296246,  0.42316645],\n",
       "       [ 1.70739761,  0.47641375,  0.77046987,  0.95903523,  1.48941263],\n",
       "       [-0.49245917, -0.37686461, -1.7040319 ,  0.15625537,  0.15660491],\n",
       "       [-1.60396575, -0.49876152,  1.8952434 , -1.16259727, -1.04292204],\n",
       "       [ 0.43379632, -0.98634915, -1.7040319 , -0.24513457, -0.24323741],\n",
       "       [ 0.85061129,  0.72020757, -0.80421307,  0.90169381,  0.95628954],\n",
       "       [-0.58508472, -0.98634915,  0.54551516, -1.33462153, -1.30948358],\n",
       "       [-0.90927414, -0.98634915,  0.32056046, -1.44930436, -1.30948358],\n",
       "       [ 0.13276329, -0.37686461, -1.47907719,  0.04157253, -0.10995664],\n",
       "       [ 0.06329412,  1.08589829, -0.12934896,  0.72966956,  0.68972799],\n",
       "       [-0.93243052, -1.10824606,  0.09560575, -1.27728011, -1.44276436],\n",
       "       [ 0.92008045, -0.01117388, -0.57925837,  0.78701097,  1.6226934 ],\n",
       "       [-1.55765298, -0.98634915,  0.77046987, -1.27728011, -1.30948358],\n",
       "       [-0.72402304, -0.98634915,  0.99542457, -1.21993869, -0.7763605 ],\n",
       "       [-0.09880059,  0.11072303,  0.32056046,  0.61498672,  0.82300877],\n",
       "       [ 0.54957826, -0.86445224, -1.25412249, -0.41715882, -0.10995664],\n",
       "       [ 1.05901877,  1.32969211,  0.32056046,  1.13105949,  1.48941263],\n",
       "       [ 0.20223245,  0.23261993, -0.80421307,  0.78701097,  0.55644722],\n",
       "       [ 1.38320819,  0.35451684, -1.02916778,  1.07371807,  0.28988568],\n",
       "       [ 1.40636458,  2.30486738, -0.12934896,  1.36042516,  1.48941263],\n",
       "       [ 0.34117077, -0.37686461, -1.25412249,  0.15625537,  0.15660491],\n",
       "       [-1.53449659, -1.7177306 , -0.35430366, -1.33462153, -1.30948358],\n",
       "       [-1.41871465, -1.83962751, -0.12934896, -1.50664578, -1.44276436],\n",
       "       [ 1.03586239,  0.23261993, -1.9289866 ,  0.72966956,  0.42316645],\n",
       "       [ 1.17480071,  1.69538284,  0.32056046,  1.30308374,  0.82300877],\n",
       "       [-1.65027853, -1.47393679,  0.09560575, -1.27728011, -1.30948358],\n",
       "       [-1.32608911, -0.86445224,  0.99542457, -1.33462153, -1.17620281],\n",
       "       [-0.83980497, -1.7177306 , -0.12934896, -1.39196294, -1.30948358],\n",
       "       [-0.05248781,  0.59831066, -1.25412249,  0.67232814,  0.42316645],\n",
       "       [ 1.42952097,  0.59831066,  0.77046987,  1.07371807,  1.6226934 ],\n",
       "       [-1.58080936, -1.47393679,  0.77046987, -1.33462153, -1.17620281],\n",
       "       [ 0.87376768,  1.2077952 , -0.12934896,  1.01637665,  1.22285108],\n",
       "       [ 0.59589103,  0.59831066,  0.54551516,  1.30308374,  1.75597417],\n",
       "       [-1.67343491, -1.35203988,  0.32056046, -1.39196294, -1.30948358],\n",
       "       [-0.2608953 ,  0.35451684, -0.35430366,  0.5576453 ,  0.28988568],\n",
       "       [-0.46930278,  0.84210448, -0.57925837,  0.50030388,  0.42316645],\n",
       "       [ 1.1979571 ,  0.47641375, -0.57925837,  0.61498672,  0.82300877],\n",
       "       [-0.56192833,  1.45158902,  0.32056046,  0.5576453 ,  0.28988568],\n",
       "       [ 0.94323684,  0.72020757,  0.32056046,  0.90169381,  1.48941263],\n",
       "       [-0.65455388, -0.86445224,  1.67028869, -1.21993869, -1.30948358],\n",
       "       [ 1.49899013,  1.32969211,  0.09560575,  0.95903523,  1.22285108],\n",
       "       [-0.30720807,  0.11072303, -0.12934896,  0.2709382 ,  0.42316645],\n",
       "       [ 1.68424123,  0.84210448, -0.12934896,  0.84435239,  1.08957031],\n",
       "       [ 0.1096069 , -0.13307079, -1.02916778, -0.13045173, -0.24323741],\n",
       "       [-0.35352084, -0.74255534, -0.80421307,  0.09891395,  0.28988568],\n",
       "       [ 0.38748355,  0.35451684, -0.12934896,  0.50030388,  0.28988568],\n",
       "       [-0.77033581, -1.5958337 , -1.7040319 , -1.39196294, -1.17620281],\n",
       "       [-0.37667723,  0.96400139, -0.35430366,  0.50030388,  0.15660491],\n",
       "       [ 0.36432716, -0.37686461, -1.02916778,  0.38562104,  0.02332414],\n",
       "       [-0.6082411 , -0.62065843,  1.44533399, -1.27728011, -1.30948358],\n",
       "       [ 0.31801438, -0.2549677 , -0.12934896,  0.21359679,  0.15660491],\n",
       "       [ 0.75798574,  1.81727975, -0.35430366,  1.475108  ,  0.82300877],\n",
       "       [ 1.15164432,  1.08589829,  0.54551516,  1.13105949,  1.22285108],\n",
       "       [-1.23346356, -0.86445224,  1.44533399, -1.27728011, -1.04292204],\n",
       "       [-0.39983362, -1.10824606, -1.47907719, -0.24513457, -0.24323741],\n",
       "       [ 1.61477207,  1.08589829,  0.54551516,  1.13105949,  1.75597417],\n",
       "       [ 1.26742626,  1.69538284, -0.12934896,  1.18840091,  0.55644722],\n",
       "       [-0.86296136, -1.10824606,  0.09560575, -1.27728011, -1.44276436],\n",
       "       [ 1.52214652,  1.08589829,  0.09560575,  1.07371807,  1.6226934 ],\n",
       "       [-1.6965913 , -1.10824606, -0.12934896, -1.33462153, -1.30948358],\n",
       "       [-0.51561555,  1.32969211,  0.09560575,  0.67232814,  0.42316645],\n",
       "       [ 1.29058265,  1.93917666, -0.57925837,  1.36042516,  0.95628954],\n",
       "       [ 0.66536019,  0.59831066, -0.35430366,  1.07371807,  0.82300877],\n",
       "       [ 0.57273464, -0.13307079, -0.57925837,  0.21359679,  0.15660491],\n",
       "       [ 0.96639322,  0.84210448, -0.12934896,  1.01637665,  0.82300877],\n",
       "       [ 0.294858  ,  0.59831066, -1.7040319 ,  0.38562104,  0.15660491],\n",
       "       [-0.00617504,  0.72020757, -0.35430366,  0.32827962,  0.15660491],\n",
       "       [ 1.08217516, -0.2549677 , -0.57925837,  0.67232814,  1.08957031],\n",
       "       [ 1.730554  ,  0.11072303, -0.12934896,  0.78701097,  0.82300877],\n",
       "       [-1.25661994, -0.49876152,  0.77046987, -1.16259727, -1.30948358],\n",
       "       [-0.0756442 ,  0.35451684, -0.57925837,  0.15625537,  0.15660491],\n",
       "       [ 0.73482935, -1.10824606, -1.25412249,  0.44296246,  0.68972799],\n",
       "       [-1.39555827, -0.01117388,  2.1201981 , -1.44930436, -1.30948358],\n",
       "       [ 0.41063993, -0.01117388, -1.02916778,  0.15625537,  0.02332414],\n",
       "       [ 0.6422038 ,  1.57348593, -0.12934896,  1.24574233,  1.22285108]])"
      ]
     },
     "execution_count": 8,
     "metadata": {},
     "output_type": "execute_result"
    }
   ],
   "source": [
    "X_train_scaled"
   ]
  },
  {
   "cell_type": "code",
   "execution_count": 9,
   "id": "119e9f0f",
   "metadata": {},
   "outputs": [
    {
     "data": {
      "text/plain": [
       "array([[-0.02933142,  0.35451684, -0.57925837,  0.5576453 ,  0.02332414],\n",
       "       [-1.30293272, -0.13307079,  1.67028869, -1.16259727, -1.17620281],\n",
       "       [ 1.012706  ,  2.30486738, -1.02916778,  1.81915651,  1.48941263],\n",
       "       [ 0.08645051,  0.23261993, -0.35430366,  0.44296246,  0.42316645],\n",
       "       [ 0.04013774,  1.2077952 , -0.57925837,  0.61498672,  0.28988568],\n",
       "       [-1.00189969, -0.49876152,  0.77046987, -1.27728011, -1.04292204],\n",
       "       [-0.23773891, -0.2549677 , -0.35430366, -0.07311031,  0.15660491],\n",
       "       [ 1.5453029 ,  1.32969211,  0.09560575,  0.78701097,  1.48941263],\n",
       "       [-0.14511336,  0.47641375, -1.9289866 ,  0.44296246,  0.42316645],\n",
       "       [ 0.17907606, -0.01117388, -0.80421307,  0.09891395,  0.02332414],\n",
       "       [ 0.8274549 ,  0.84210448,  0.32056046,  0.78701097,  1.08957031],\n",
       "       [-1.44187104, -1.23014297, -0.12934896, -1.33462153, -1.44276436],\n",
       "       [-0.88611775, -0.37686461,  0.99542457, -1.39196294, -1.30948358],\n",
       "       [-1.5113402 , -1.10824606,  0.09560575, -1.27728011, -1.44276436],\n",
       "       [-1.27977633, -0.86445224,  1.67028869, -1.27728011, -1.17620281],\n",
       "       [-0.42299001,  0.59831066,  0.54551516,  0.5576453 ,  0.55644722],\n",
       "       [ 0.68851658,  0.84210448, -0.12934896,  1.18840091,  1.35613185],\n",
       "       [-0.12195697, -0.2549677 , -1.25412249,  0.09891395, -0.10995664],\n",
       "       [-0.44614639, -0.13307079, -0.57925837,  0.44296246,  0.15660491],\n",
       "       [ 1.33689542,  0.72020757, -0.57925837,  1.07371807,  1.35613185],\n",
       "       [-1.04821246, -1.35203988,  0.32056046, -1.21993869, -1.30948358],\n",
       "       [ 1.22111348,  0.35451684, -0.12934896,  0.67232814,  0.82300877],\n",
       "       [-1.11768162, -0.98634915,  0.77046987, -1.21993869, -1.04292204],\n",
       "       [ 1.24426987,  0.72020757, -0.57925837,  1.07371807,  1.22285108],\n",
       "       [ 1.31373903,  2.5486612 ,  1.67028869,  1.53244942,  1.08957031],\n",
       "       [ 1.63792845,  1.08589829, -0.12934896,  0.84435239,  1.48941263],\n",
       "       [ 0.78114213,  1.08589829, -1.25412249,  1.18840091,  0.82300877],\n",
       "       [ 1.59161568,  1.2077952 ,  0.32056046,  1.24574233,  1.48941263],\n",
       "       [-0.67771026, -1.23014297, -0.12934896, -1.33462153, -1.17620281],\n",
       "       [-1.02505607, -1.23014297,  0.09560575, -1.21993869, -1.30948358]])"
      ]
     },
     "execution_count": 9,
     "metadata": {},
     "output_type": "execute_result"
    }
   ],
   "source": [
    "X_test_scaled"
   ]
  },
  {
   "cell_type": "markdown",
   "id": "363d978c",
   "metadata": {},
   "source": [
    "###  Initialize the KNN classifier"
   ]
  },
  {
   "cell_type": "code",
   "execution_count": 10,
   "id": "40cc8dcc",
   "metadata": {},
   "outputs": [
    {
     "data": {
      "text/html": [
       "<style>#sk-container-id-1 {color: black;}#sk-container-id-1 pre{padding: 0;}#sk-container-id-1 div.sk-toggleable {background-color: white;}#sk-container-id-1 label.sk-toggleable__label {cursor: pointer;display: block;width: 100%;margin-bottom: 0;padding: 0.3em;box-sizing: border-box;text-align: center;}#sk-container-id-1 label.sk-toggleable__label-arrow:before {content: \"▸\";float: left;margin-right: 0.25em;color: #696969;}#sk-container-id-1 label.sk-toggleable__label-arrow:hover:before {color: black;}#sk-container-id-1 div.sk-estimator:hover label.sk-toggleable__label-arrow:before {color: black;}#sk-container-id-1 div.sk-toggleable__content {max-height: 0;max-width: 0;overflow: hidden;text-align: left;background-color: #f0f8ff;}#sk-container-id-1 div.sk-toggleable__content pre {margin: 0.2em;color: black;border-radius: 0.25em;background-color: #f0f8ff;}#sk-container-id-1 input.sk-toggleable__control:checked~div.sk-toggleable__content {max-height: 200px;max-width: 100%;overflow: auto;}#sk-container-id-1 input.sk-toggleable__control:checked~label.sk-toggleable__label-arrow:before {content: \"▾\";}#sk-container-id-1 div.sk-estimator input.sk-toggleable__control:checked~label.sk-toggleable__label {background-color: #d4ebff;}#sk-container-id-1 div.sk-label input.sk-toggleable__control:checked~label.sk-toggleable__label {background-color: #d4ebff;}#sk-container-id-1 input.sk-hidden--visually {border: 0;clip: rect(1px 1px 1px 1px);clip: rect(1px, 1px, 1px, 1px);height: 1px;margin: -1px;overflow: hidden;padding: 0;position: absolute;width: 1px;}#sk-container-id-1 div.sk-estimator {font-family: monospace;background-color: #f0f8ff;border: 1px dotted black;border-radius: 0.25em;box-sizing: border-box;margin-bottom: 0.5em;}#sk-container-id-1 div.sk-estimator:hover {background-color: #d4ebff;}#sk-container-id-1 div.sk-parallel-item::after {content: \"\";width: 100%;border-bottom: 1px solid gray;flex-grow: 1;}#sk-container-id-1 div.sk-label:hover label.sk-toggleable__label {background-color: #d4ebff;}#sk-container-id-1 div.sk-serial::before {content: \"\";position: absolute;border-left: 1px solid gray;box-sizing: border-box;top: 0;bottom: 0;left: 50%;z-index: 0;}#sk-container-id-1 div.sk-serial {display: flex;flex-direction: column;align-items: center;background-color: white;padding-right: 0.2em;padding-left: 0.2em;position: relative;}#sk-container-id-1 div.sk-item {position: relative;z-index: 1;}#sk-container-id-1 div.sk-parallel {display: flex;align-items: stretch;justify-content: center;background-color: white;position: relative;}#sk-container-id-1 div.sk-item::before, #sk-container-id-1 div.sk-parallel-item::before {content: \"\";position: absolute;border-left: 1px solid gray;box-sizing: border-box;top: 0;bottom: 0;left: 50%;z-index: -1;}#sk-container-id-1 div.sk-parallel-item {display: flex;flex-direction: column;z-index: 1;position: relative;background-color: white;}#sk-container-id-1 div.sk-parallel-item:first-child::after {align-self: flex-end;width: 50%;}#sk-container-id-1 div.sk-parallel-item:last-child::after {align-self: flex-start;width: 50%;}#sk-container-id-1 div.sk-parallel-item:only-child::after {width: 0;}#sk-container-id-1 div.sk-dashed-wrapped {border: 1px dashed gray;margin: 0 0.4em 0.5em 0.4em;box-sizing: border-box;padding-bottom: 0.4em;background-color: white;}#sk-container-id-1 div.sk-label label {font-family: monospace;font-weight: bold;display: inline-block;line-height: 1.2em;}#sk-container-id-1 div.sk-label-container {text-align: center;}#sk-container-id-1 div.sk-container {/* jupyter's `normalize.less` sets `[hidden] { display: none; }` but bootstrap.min.css set `[hidden] { display: none !important; }` so we also need the `!important` here to be able to override the default hidden behavior on the sphinx rendered scikit-learn.org. See: https://github.com/scikit-learn/scikit-learn/issues/21755 */display: inline-block !important;position: relative;}#sk-container-id-1 div.sk-text-repr-fallback {display: none;}</style><div id=\"sk-container-id-1\" class=\"sk-top-container\"><div class=\"sk-text-repr-fallback\"><pre>KNeighborsClassifier(n_neighbors=3)</pre><b>In a Jupyter environment, please rerun this cell to show the HTML representation or trust the notebook. <br />On GitHub, the HTML representation is unable to render, please try loading this page with nbviewer.org.</b></div><div class=\"sk-container\" hidden><div class=\"sk-item\"><div class=\"sk-estimator sk-toggleable\"><input class=\"sk-toggleable__control sk-hidden--visually\" id=\"sk-estimator-id-1\" type=\"checkbox\" checked><label for=\"sk-estimator-id-1\" class=\"sk-toggleable__label sk-toggleable__label-arrow\">KNeighborsClassifier</label><div class=\"sk-toggleable__content\"><pre>KNeighborsClassifier(n_neighbors=3)</pre></div></div></div></div></div>"
      ],
      "text/plain": [
       "KNeighborsClassifier(n_neighbors=3)"
      ]
     },
     "execution_count": 10,
     "metadata": {},
     "output_type": "execute_result"
    }
   ],
   "source": [
    "knn_classifier = KNeighborsClassifier(n_neighbors=3)\n",
    "knn_classifier"
   ]
  },
  {
   "cell_type": "code",
   "execution_count": 11,
   "id": "74f30b13",
   "metadata": {},
   "outputs": [
    {
     "data": {
      "text/html": [
       "<style>#sk-container-id-2 {color: black;}#sk-container-id-2 pre{padding: 0;}#sk-container-id-2 div.sk-toggleable {background-color: white;}#sk-container-id-2 label.sk-toggleable__label {cursor: pointer;display: block;width: 100%;margin-bottom: 0;padding: 0.3em;box-sizing: border-box;text-align: center;}#sk-container-id-2 label.sk-toggleable__label-arrow:before {content: \"▸\";float: left;margin-right: 0.25em;color: #696969;}#sk-container-id-2 label.sk-toggleable__label-arrow:hover:before {color: black;}#sk-container-id-2 div.sk-estimator:hover label.sk-toggleable__label-arrow:before {color: black;}#sk-container-id-2 div.sk-toggleable__content {max-height: 0;max-width: 0;overflow: hidden;text-align: left;background-color: #f0f8ff;}#sk-container-id-2 div.sk-toggleable__content pre {margin: 0.2em;color: black;border-radius: 0.25em;background-color: #f0f8ff;}#sk-container-id-2 input.sk-toggleable__control:checked~div.sk-toggleable__content {max-height: 200px;max-width: 100%;overflow: auto;}#sk-container-id-2 input.sk-toggleable__control:checked~label.sk-toggleable__label-arrow:before {content: \"▾\";}#sk-container-id-2 div.sk-estimator input.sk-toggleable__control:checked~label.sk-toggleable__label {background-color: #d4ebff;}#sk-container-id-2 div.sk-label input.sk-toggleable__control:checked~label.sk-toggleable__label {background-color: #d4ebff;}#sk-container-id-2 input.sk-hidden--visually {border: 0;clip: rect(1px 1px 1px 1px);clip: rect(1px, 1px, 1px, 1px);height: 1px;margin: -1px;overflow: hidden;padding: 0;position: absolute;width: 1px;}#sk-container-id-2 div.sk-estimator {font-family: monospace;background-color: #f0f8ff;border: 1px dotted black;border-radius: 0.25em;box-sizing: border-box;margin-bottom: 0.5em;}#sk-container-id-2 div.sk-estimator:hover {background-color: #d4ebff;}#sk-container-id-2 div.sk-parallel-item::after {content: \"\";width: 100%;border-bottom: 1px solid gray;flex-grow: 1;}#sk-container-id-2 div.sk-label:hover label.sk-toggleable__label {background-color: #d4ebff;}#sk-container-id-2 div.sk-serial::before {content: \"\";position: absolute;border-left: 1px solid gray;box-sizing: border-box;top: 0;bottom: 0;left: 50%;z-index: 0;}#sk-container-id-2 div.sk-serial {display: flex;flex-direction: column;align-items: center;background-color: white;padding-right: 0.2em;padding-left: 0.2em;position: relative;}#sk-container-id-2 div.sk-item {position: relative;z-index: 1;}#sk-container-id-2 div.sk-parallel {display: flex;align-items: stretch;justify-content: center;background-color: white;position: relative;}#sk-container-id-2 div.sk-item::before, #sk-container-id-2 div.sk-parallel-item::before {content: \"\";position: absolute;border-left: 1px solid gray;box-sizing: border-box;top: 0;bottom: 0;left: 50%;z-index: -1;}#sk-container-id-2 div.sk-parallel-item {display: flex;flex-direction: column;z-index: 1;position: relative;background-color: white;}#sk-container-id-2 div.sk-parallel-item:first-child::after {align-self: flex-end;width: 50%;}#sk-container-id-2 div.sk-parallel-item:last-child::after {align-self: flex-start;width: 50%;}#sk-container-id-2 div.sk-parallel-item:only-child::after {width: 0;}#sk-container-id-2 div.sk-dashed-wrapped {border: 1px dashed gray;margin: 0 0.4em 0.5em 0.4em;box-sizing: border-box;padding-bottom: 0.4em;background-color: white;}#sk-container-id-2 div.sk-label label {font-family: monospace;font-weight: bold;display: inline-block;line-height: 1.2em;}#sk-container-id-2 div.sk-label-container {text-align: center;}#sk-container-id-2 div.sk-container {/* jupyter's `normalize.less` sets `[hidden] { display: none; }` but bootstrap.min.css set `[hidden] { display: none !important; }` so we also need the `!important` here to be able to override the default hidden behavior on the sphinx rendered scikit-learn.org. See: https://github.com/scikit-learn/scikit-learn/issues/21755 */display: inline-block !important;position: relative;}#sk-container-id-2 div.sk-text-repr-fallback {display: none;}</style><div id=\"sk-container-id-2\" class=\"sk-top-container\"><div class=\"sk-text-repr-fallback\"><pre>KNeighborsClassifier(n_neighbors=3)</pre><b>In a Jupyter environment, please rerun this cell to show the HTML representation or trust the notebook. <br />On GitHub, the HTML representation is unable to render, please try loading this page with nbviewer.org.</b></div><div class=\"sk-container\" hidden><div class=\"sk-item\"><div class=\"sk-estimator sk-toggleable\"><input class=\"sk-toggleable__control sk-hidden--visually\" id=\"sk-estimator-id-2\" type=\"checkbox\" checked><label for=\"sk-estimator-id-2\" class=\"sk-toggleable__label sk-toggleable__label-arrow\">KNeighborsClassifier</label><div class=\"sk-toggleable__content\"><pre>KNeighborsClassifier(n_neighbors=3)</pre></div></div></div></div></div>"
      ],
      "text/plain": [
       "KNeighborsClassifier(n_neighbors=3)"
      ]
     },
     "execution_count": 11,
     "metadata": {},
     "output_type": "execute_result"
    }
   ],
   "source": [
    "# Train the classifier on scaled training data\n",
    "knn_classifier.fit(X_train_scaled, y_train)"
   ]
  },
  {
   "cell_type": "markdown",
   "id": "1a1b1c17",
   "metadata": {},
   "source": [
    "###  Make predictions on scaled testing data"
   ]
  },
  {
   "cell_type": "code",
   "execution_count": 12,
   "id": "197eb34a",
   "metadata": {},
   "outputs": [
    {
     "data": {
      "text/plain": [
       "array(['Iris-versicolor', 'Iris-setosa', 'Iris-virginica',\n",
       "       'Iris-versicolor', 'Iris-versicolor', 'Iris-setosa',\n",
       "       'Iris-versicolor', 'Iris-virginica', 'Iris-versicolor',\n",
       "       'Iris-versicolor', 'Iris-virginica', 'Iris-setosa', 'Iris-setosa',\n",
       "       'Iris-setosa', 'Iris-setosa', 'Iris-versicolor', 'Iris-virginica',\n",
       "       'Iris-versicolor', 'Iris-versicolor', 'Iris-virginica',\n",
       "       'Iris-setosa', 'Iris-virginica', 'Iris-setosa', 'Iris-virginica',\n",
       "       'Iris-virginica', 'Iris-virginica', 'Iris-virginica',\n",
       "       'Iris-virginica', 'Iris-setosa', 'Iris-setosa'], dtype=object)"
      ]
     },
     "execution_count": 12,
     "metadata": {},
     "output_type": "execute_result"
    }
   ],
   "source": [
    "y_pred = knn_classifier.predict(X_test_scaled)\n",
    "y_pred"
   ]
  },
  {
   "cell_type": "markdown",
   "id": "0d869464",
   "metadata": {},
   "source": [
    "###  Calculate accuracy"
   ]
  },
  {
   "cell_type": "code",
   "execution_count": 13,
   "id": "61e6e612",
   "metadata": {},
   "outputs": [
    {
     "name": "stdout",
     "output_type": "stream",
     "text": [
      "Accuracy: 1.00\n"
     ]
    }
   ],
   "source": [
    "accuracy = accuracy_score(y_test, y_pred)\n",
    "print(f\"Accuracy: {accuracy:.2f}\")"
   ]
  },
  {
   "cell_type": "code",
   "execution_count": 14,
   "id": "179804ac",
   "metadata": {},
   "outputs": [],
   "source": [
    "from sklearn.model_selection import StratifiedKFold\n",
    "skf=StratifiedKFold(n_splits=10,random_state=6,shuffle=True)"
   ]
  },
  {
   "cell_type": "code",
   "execution_count": 15,
   "id": "02e80e26",
   "metadata": {},
   "outputs": [],
   "source": [
    "from sklearn.neighbors import KNeighborsClassifier\n",
    "clf=KNeighborsClassifier(n_neighbors=3)"
   ]
  },
  {
   "cell_type": "code",
   "execution_count": 16,
   "id": "5daeb825",
   "metadata": {},
   "outputs": [
    {
     "data": {
      "text/html": [
       "<style>#sk-container-id-3 {color: black;}#sk-container-id-3 pre{padding: 0;}#sk-container-id-3 div.sk-toggleable {background-color: white;}#sk-container-id-3 label.sk-toggleable__label {cursor: pointer;display: block;width: 100%;margin-bottom: 0;padding: 0.3em;box-sizing: border-box;text-align: center;}#sk-container-id-3 label.sk-toggleable__label-arrow:before {content: \"▸\";float: left;margin-right: 0.25em;color: #696969;}#sk-container-id-3 label.sk-toggleable__label-arrow:hover:before {color: black;}#sk-container-id-3 div.sk-estimator:hover label.sk-toggleable__label-arrow:before {color: black;}#sk-container-id-3 div.sk-toggleable__content {max-height: 0;max-width: 0;overflow: hidden;text-align: left;background-color: #f0f8ff;}#sk-container-id-3 div.sk-toggleable__content pre {margin: 0.2em;color: black;border-radius: 0.25em;background-color: #f0f8ff;}#sk-container-id-3 input.sk-toggleable__control:checked~div.sk-toggleable__content {max-height: 200px;max-width: 100%;overflow: auto;}#sk-container-id-3 input.sk-toggleable__control:checked~label.sk-toggleable__label-arrow:before {content: \"▾\";}#sk-container-id-3 div.sk-estimator input.sk-toggleable__control:checked~label.sk-toggleable__label {background-color: #d4ebff;}#sk-container-id-3 div.sk-label input.sk-toggleable__control:checked~label.sk-toggleable__label {background-color: #d4ebff;}#sk-container-id-3 input.sk-hidden--visually {border: 0;clip: rect(1px 1px 1px 1px);clip: rect(1px, 1px, 1px, 1px);height: 1px;margin: -1px;overflow: hidden;padding: 0;position: absolute;width: 1px;}#sk-container-id-3 div.sk-estimator {font-family: monospace;background-color: #f0f8ff;border: 1px dotted black;border-radius: 0.25em;box-sizing: border-box;margin-bottom: 0.5em;}#sk-container-id-3 div.sk-estimator:hover {background-color: #d4ebff;}#sk-container-id-3 div.sk-parallel-item::after {content: \"\";width: 100%;border-bottom: 1px solid gray;flex-grow: 1;}#sk-container-id-3 div.sk-label:hover label.sk-toggleable__label {background-color: #d4ebff;}#sk-container-id-3 div.sk-serial::before {content: \"\";position: absolute;border-left: 1px solid gray;box-sizing: border-box;top: 0;bottom: 0;left: 50%;z-index: 0;}#sk-container-id-3 div.sk-serial {display: flex;flex-direction: column;align-items: center;background-color: white;padding-right: 0.2em;padding-left: 0.2em;position: relative;}#sk-container-id-3 div.sk-item {position: relative;z-index: 1;}#sk-container-id-3 div.sk-parallel {display: flex;align-items: stretch;justify-content: center;background-color: white;position: relative;}#sk-container-id-3 div.sk-item::before, #sk-container-id-3 div.sk-parallel-item::before {content: \"\";position: absolute;border-left: 1px solid gray;box-sizing: border-box;top: 0;bottom: 0;left: 50%;z-index: -1;}#sk-container-id-3 div.sk-parallel-item {display: flex;flex-direction: column;z-index: 1;position: relative;background-color: white;}#sk-container-id-3 div.sk-parallel-item:first-child::after {align-self: flex-end;width: 50%;}#sk-container-id-3 div.sk-parallel-item:last-child::after {align-self: flex-start;width: 50%;}#sk-container-id-3 div.sk-parallel-item:only-child::after {width: 0;}#sk-container-id-3 div.sk-dashed-wrapped {border: 1px dashed gray;margin: 0 0.4em 0.5em 0.4em;box-sizing: border-box;padding-bottom: 0.4em;background-color: white;}#sk-container-id-3 div.sk-label label {font-family: monospace;font-weight: bold;display: inline-block;line-height: 1.2em;}#sk-container-id-3 div.sk-label-container {text-align: center;}#sk-container-id-3 div.sk-container {/* jupyter's `normalize.less` sets `[hidden] { display: none; }` but bootstrap.min.css set `[hidden] { display: none !important; }` so we also need the `!important` here to be able to override the default hidden behavior on the sphinx rendered scikit-learn.org. See: https://github.com/scikit-learn/scikit-learn/issues/21755 */display: inline-block !important;position: relative;}#sk-container-id-3 div.sk-text-repr-fallback {display: none;}</style><div id=\"sk-container-id-3\" class=\"sk-top-container\"><div class=\"sk-text-repr-fallback\"><pre>KNeighborsClassifier(n_neighbors=3)</pre><b>In a Jupyter environment, please rerun this cell to show the HTML representation or trust the notebook. <br />On GitHub, the HTML representation is unable to render, please try loading this page with nbviewer.org.</b></div><div class=\"sk-container\" hidden><div class=\"sk-item\"><div class=\"sk-estimator sk-toggleable\"><input class=\"sk-toggleable__control sk-hidden--visually\" id=\"sk-estimator-id-3\" type=\"checkbox\" checked><label for=\"sk-estimator-id-3\" class=\"sk-toggleable__label sk-toggleable__label-arrow\">KNeighborsClassifier</label><div class=\"sk-toggleable__content\"><pre>KNeighborsClassifier(n_neighbors=3)</pre></div></div></div></div></div>"
      ],
      "text/plain": [
       "KNeighborsClassifier(n_neighbors=3)"
      ]
     },
     "execution_count": 16,
     "metadata": {},
     "output_type": "execute_result"
    }
   ],
   "source": [
    "clf.fit(X_train, y_train)"
   ]
  },
  {
   "cell_type": "code",
   "execution_count": 17,
   "id": "bd7e6964",
   "metadata": {},
   "outputs": [
    {
     "name": "stdout",
     "output_type": "stream",
     "text": [
      "['Iris-versicolor' 'Iris-setosa' 'Iris-virginica' 'Iris-versicolor'\n",
      " 'Iris-versicolor' 'Iris-setosa' 'Iris-versicolor' 'Iris-virginica'\n",
      " 'Iris-versicolor' 'Iris-versicolor' 'Iris-virginica' 'Iris-setosa'\n",
      " 'Iris-setosa' 'Iris-setosa' 'Iris-setosa' 'Iris-versicolor'\n",
      " 'Iris-virginica' 'Iris-versicolor' 'Iris-versicolor' 'Iris-virginica'\n",
      " 'Iris-setosa' 'Iris-virginica' 'Iris-setosa' 'Iris-virginica'\n",
      " 'Iris-virginica' 'Iris-virginica' 'Iris-virginica' 'Iris-virginica'\n",
      " 'Iris-setosa' 'Iris-setosa']\n"
     ]
    }
   ],
   "source": [
    "y_pred = clf.predict(X_test)\n",
    "print(y_pred)"
   ]
  },
  {
   "cell_type": "code",
   "execution_count": 18,
   "id": "4c55d38e",
   "metadata": {},
   "outputs": [
    {
     "data": {
      "text/plain": [
       "array([[10,  0,  0],\n",
       "       [ 0,  9,  0],\n",
       "       [ 0,  0, 11]], dtype=int64)"
      ]
     },
     "execution_count": 18,
     "metadata": {},
     "output_type": "execute_result"
    }
   ],
   "source": [
    "cm = confusion_matrix(y_test, y_pred)\n",
    "cm"
   ]
  },
  {
   "cell_type": "code",
   "execution_count": null,
   "id": "2743ddf0",
   "metadata": {},
   "outputs": [],
   "source": []
  },
  {
   "cell_type": "code",
   "execution_count": null,
   "id": "d4401858",
   "metadata": {},
   "outputs": [],
   "source": []
  }
 ],
 "metadata": {
  "kernelspec": {
   "display_name": "Python 3 (ipykernel)",
   "language": "python",
   "name": "python3"
  },
  "language_info": {
   "codemirror_mode": {
    "name": "ipython",
    "version": 3
   },
   "file_extension": ".py",
   "mimetype": "text/x-python",
   "name": "python",
   "nbconvert_exporter": "python",
   "pygments_lexer": "ipython3",
   "version": "3.11.4"
  }
 },
 "nbformat": 4,
 "nbformat_minor": 5
}
